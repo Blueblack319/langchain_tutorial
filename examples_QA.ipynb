{
 "cells": [
  {
   "cell_type": "code",
   "execution_count": 1,
   "metadata": {},
   "outputs": [],
   "source": [
    "import os\n",
    "from dotenv import load_dotenv\n",
    "\n",
    "from langchain.embeddings.openai import OpenAIEmbeddings\n",
    "from langchain.embeddings.cohere import CohereEmbeddings\n",
    "from langchain.text_splitter import CharacterTextSplitter\n",
    "from langchain.vectorstores.elastic_vector_search import ElasticVectorSearch\n",
    "from langchain.vectorstores import Chroma\n",
    "from langchain.docstore.document import Document\n",
    "from langchain.prompts import PromptTemplate\n",
    "\n",
    "from langchain.chains.question_answering import load_qa_chain\n",
    "from langchain.llms import OpenAI\n"
   ]
  },
  {
   "attachments": {},
   "cell_type": "markdown",
   "metadata": {},
   "source": [
    "# Setup"
   ]
  },
  {
   "cell_type": "code",
   "execution_count": 2,
   "metadata": {},
   "outputs": [],
   "source": [
    "load_dotenv(\".env\")\n",
    "os.environ[\"OPENAI_API_KEY\"] = os.getenv(\"OPENAI_API_KEY\")"
   ]
  },
  {
   "cell_type": "code",
   "execution_count": 3,
   "metadata": {},
   "outputs": [
    {
     "name": "stdout",
     "output_type": "stream",
     "text": [
      "Running Chroma using direct local API.\n",
      "Using DuckDB in-memory for database. Data will be transient.\n"
     ]
    }
   ],
   "source": [
    "with open(\"./state_of_the_union.txt\") as f:\n",
    "    state_of_the_union = f.read()\n",
    "text_splitter = CharacterTextSplitter(chunk_size=1000, chunk_overlap=0)\n",
    "texts = text_splitter.split_text(state_of_the_union)\n",
    "\n",
    "embeddings = OpenAIEmbeddings()\n",
    "\n",
    "docsearch = Chroma.from_texts(\n",
    "    texts, embeddings, metadatas=[{\"source\": str(i)} for i in range(len(texts))]\n",
    ")"
   ]
  },
  {
   "cell_type": "code",
   "execution_count": 5,
   "metadata": {},
   "outputs": [],
   "source": [
    "query = \"What did the president say about Justice Breyer\"\n",
    "docs = docsearch.similarity_search(query)"
   ]
  },
  {
   "cell_type": "code",
   "execution_count": 6,
   "metadata": {},
   "outputs": [],
   "source": [
    "from langchain.chains.qa_with_sources import load_qa_with_sources_chain\n",
    "from langchain.llms import OpenAI"
   ]
  },
  {
   "attachments": {},
   "cell_type": "markdown",
   "metadata": {},
   "source": [
    "# Shuffling"
   ]
  },
  {
   "cell_type": "code",
   "execution_count": 8,
   "metadata": {},
   "outputs": [
    {
     "data": {
      "text/plain": [
       "{'output_text': \" The president thanked Justice Breyer for his service and mentioned that he nominated Circuit Court of Appeals Judge Ketanji Brown Jackson to continue Justice Breyer's legacy of excellence.\\nSOURCES: 31-pl\"}"
      ]
     },
     "execution_count": 8,
     "metadata": {},
     "output_type": "execute_result"
    }
   ],
   "source": [
    "chain_stuff = load_qa_with_sources_chain(OpenAI(temperature=0), chain_type=\"stuff\")\n",
    "chain_stuff({\"input_documents\": docs, \"question\": query}, return_only_outputs=True)"
   ]
  },
  {
   "cell_type": "code",
   "execution_count": 12,
   "metadata": {},
   "outputs": [],
   "source": [
    "template = \"\"\"Given the following extracted parts of a long document and a question, create a final answer with references (\"SOURCES\"). \n",
    "If you don't know the answer, just say that you don't know. Don't try to make up an answer.\n",
    "ALWAYS return a \"SOURCES\" part in your answer.\n",
    "Respond in Italian.\n",
    "\n",
    "QUESTION: {question}\n",
    "=========\n",
    "{summaries}\n",
    "=========\n",
    "FINAL ANSWER IN ITALIAN:\"\"\"\n",
    "PROMPT = PromptTemplate(template=template, input_variables=[\"summaries\", \"question\"])"
   ]
  },
  {
   "cell_type": "code",
   "execution_count": 13,
   "metadata": {},
   "outputs": [
    {
     "data": {
      "text/plain": [
       "{'output_text': '\\nIl Presidente non ha fatto alcun riferimento diretto a Justice Breyer nel discorso.\\nSOURCES: 31, 21, 34, 10'}"
      ]
     },
     "execution_count": 13,
     "metadata": {},
     "output_type": "execute_result"
    }
   ],
   "source": [
    "chain_stuff_prompt = load_qa_with_sources_chain(OpenAI(temperature=0), chain_type=\"stuff\", prompt=PROMPT)\n",
    "chain_stuff_prompt({\"input_documents\": docs, \"question\": query}, return_only_outputs=True)"
   ]
  },
  {
   "attachments": {},
   "cell_type": "markdown",
   "metadata": {},
   "source": [
    "# Map Reduce"
   ]
  },
  {
   "cell_type": "code",
   "execution_count": 15,
   "metadata": {},
   "outputs": [
    {
     "data": {
      "text/plain": [
       "{'output_text': ' The president thanked Justice Breyer for his service.\\nSOURCES: 31'}"
      ]
     },
     "execution_count": 15,
     "metadata": {},
     "output_type": "execute_result"
    }
   ],
   "source": [
    "chain_map_reduce = load_qa_with_sources_chain(OpenAI(temperature=0), chain_type='map_reduce')\n",
    "chain_map_reduce({\"input_documents\": docs, \"question\": query}, return_only_outputs=True)"
   ]
  },
  {
   "cell_type": "code",
   "execution_count": 16,
   "metadata": {},
   "outputs": [
    {
     "data": {
      "text/plain": [
       "{'intermediate_steps': [' \"Tonight, I’d like to honor someone who has dedicated his life to serve this country: Justice Stephen Breyer—an Army veteran, Constitutional scholar, and retiring Justice of the United States Supreme Court. Justice Breyer, thank you for your service.\"',\n",
       "  ' None',\n",
       "  ' None',\n",
       "  ' None'],\n",
       " 'output_text': ' The president thanked Justice Breyer for his service.\\nSOURCES: 31'}"
      ]
     },
     "execution_count": 16,
     "metadata": {},
     "output_type": "execute_result"
    }
   ],
   "source": [
    "chain_map_reduce_intermediate = load_qa_with_sources_chain(OpenAI(temperature=0), chain_type=\"map_reduce\", return_intermediate_steps=True)\n",
    "chain_map_reduce_intermediate({\"input_documents\": docs, \"question\": query}, return_only_outputs=True)"
   ]
  },
  {
   "cell_type": "code",
   "execution_count": 17,
   "metadata": {},
   "outputs": [],
   "source": [
    "question_prompt_template = \"\"\"Use the following portion of a long document to see if any of the text is relevant to answer the question. \n",
    "Return any relevant text in Italian.\n",
    "{context}\n",
    "Question: {question}\n",
    "Relevant text, if any, in Italian:\"\"\"\n",
    "QUESTION_PROMPT = PromptTemplate(\n",
    "    template=question_prompt_template, input_variables=[\"context\", \"question\"]\n",
    ")\n",
    "\n",
    "combine_prompt_template = \"\"\"Given the following extracted parts of a long document and a question, create a final answer with references (\"SOURCES\"). \n",
    "If you don't know the answer, just say that you don't know. Don't try to make up an answer.\n",
    "ALWAYS return a \"SOURCES\" part in your answer.\n",
    "Respond in Italian.\n",
    "\n",
    "QUESTION: {question}\n",
    "=========\n",
    "{summaries}\n",
    "=========\n",
    "FINAL ANSWER IN ITALIAN:\"\"\"\n",
    "COMBINE_PROMPT = PromptTemplate(\n",
    "    template=combine_prompt_template, input_variables=[\"summaries\", \"question\"]\n",
    ")"
   ]
  },
  {
   "cell_type": "code",
   "execution_count": 19,
   "metadata": {},
   "outputs": [
    {
     "data": {
      "text/plain": [
       "{'intermediate_steps': [\"\\nStasera vorrei onorare qualcuno che ha dedicato la sua vita a servire questo paese: il giustiziere Stephen Breyer, un veterano dell'esercito, uno studioso costituzionale e un giustiziere in uscita della Corte Suprema degli Stati Uniti. Giustiziere Breyer, grazie per il tuo servizio.\",\n",
       "  ' Non rilevante',\n",
       "  ' Non rilevante',\n",
       "  ' Non rilevante'],\n",
       " 'output_text': \"\\nIl Presidente ha onorato il Giustiziere Stephen Breyer, veterano dell'esercito, studioso costituzionale e giustiziere in uscita della Corte Suprema degli Stati Uniti, ringraziandolo per il suo servizio.\\n\\nFONTE: 31\"}"
      ]
     },
     "execution_count": 19,
     "metadata": {},
     "output_type": "execute_result"
    }
   ],
   "source": [
    "llm = OpenAI(batch_size=5, temperature=0)\n",
    "chain_map_reduce_intermediate_prompt = load_qa_with_sources_chain(llm, chain_type=\"map_reduce\", return_intermediate_steps=True, question_prompt=QUESTION_PROMPT, combine_prompt=COMBINE_PROMPT)\n",
    "chain_map_reduce_intermediate_prompt({\"input_documents\": docs, \"question\": query}, return_only_outputs=True)"
   ]
  },
  {
   "attachments": {},
   "cell_type": "markdown",
   "metadata": {},
   "source": [
    "# Refine"
   ]
  },
  {
   "cell_type": "code",
   "execution_count": 20,
   "metadata": {},
   "outputs": [
    {
     "data": {
      "text/plain": [
       "{'output_text': '\\n\\nThe president said that he wanted to honor Justice Breyer for his dedication to serving the country and his legacy of excellence, while also emphasizing the importance of competition and the need to go after criminals who have stolen relief money meant for small businesses and millions of Americans. He also announced that the Justice Department will name a chief prosecutor for pandemic fraud, and that he was offering a Unity Agenda for the Nation, which included beating the opioid epidemic and investing in America, educating Americans, growing the workforce, and building the economy from the bottom up and the middle out, not from the top down. He also mentioned the importance of passing the Bipartisan Infrastructure Law, the most sweeping investment to rebuild America in history, and that the country would have an infrastructure decade. Source: 21, 34, 10'}"
      ]
     },
     "execution_count": 20,
     "metadata": {},
     "output_type": "execute_result"
    }
   ],
   "source": [
    "chain_refine = load_qa_with_sources_chain(OpenAI(temperature=0), chain_type=\"refine\")\n",
    "chain_refine({\"input_documents\": docs, \"question\": query}, return_only_outputs=True)"
   ]
  },
  {
   "cell_type": "code",
   "execution_count": 22,
   "metadata": {},
   "outputs": [
    {
     "data": {
      "text/plain": [
       "{'intermediate_steps': ['\\nThe president said that he wanted to honor Justice Breyer for his dedication to serving the country and his legacy of excellence.',\n",
       "  '\\n\\nThe president said that he wanted to honor Justice Breyer for his dedication to serving the country and his legacy of excellence, while also emphasizing the importance of competition and the need to go after criminals who have stolen relief money meant for small businesses and millions of Americans. He also announced that the Justice Department will name a chief prosecutor for pandemic fraud. Source: 21',\n",
       "  '\\n\\nThe president said that he wanted to honor Justice Breyer for his dedication to serving the country and his legacy of excellence, while also emphasizing the importance of competition and the need to go after criminals who have stolen relief money meant for small businesses and millions of Americans. He also announced that the Justice Department will name a chief prosecutor for pandemic fraud, and that he was offering a Unity Agenda for the Nation, which included beating the opioid epidemic. Source: 21, 34',\n",
       "  '\\n\\nThe president said that he wanted to honor Justice Breyer for his dedication to serving the country and his legacy of excellence, while also emphasizing the importance of competition and the need to go after criminals who have stolen relief money meant for small businesses and millions of Americans. He also announced that the Justice Department will name a chief prosecutor for pandemic fraud, and that he was offering a Unity Agenda for the Nation, which included beating the opioid epidemic and investing in America, educating Americans, growing the workforce, and building the economy from the bottom up and the middle out, not from the top down. He also mentioned the importance of passing the Bipartisan Infrastructure Law, the most sweeping investment to rebuild America in history, and that they were done talking about infrastructure weeks and were going to have an infrastructure decade. Source: 21, 34, 10'],\n",
       " 'output_text': '\\n\\nThe president said that he wanted to honor Justice Breyer for his dedication to serving the country and his legacy of excellence, while also emphasizing the importance of competition and the need to go after criminals who have stolen relief money meant for small businesses and millions of Americans. He also announced that the Justice Department will name a chief prosecutor for pandemic fraud, and that he was offering a Unity Agenda for the Nation, which included beating the opioid epidemic and investing in America, educating Americans, growing the workforce, and building the economy from the bottom up and the middle out, not from the top down. He also mentioned the importance of passing the Bipartisan Infrastructure Law, the most sweeping investment to rebuild America in history, and that they were done talking about infrastructure weeks and were going to have an infrastructure decade. Source: 21, 34, 10'}"
      ]
     },
     "execution_count": 22,
     "metadata": {},
     "output_type": "execute_result"
    }
   ],
   "source": [
    "chain_refine_intermediate = load_qa_with_sources_chain(OpenAI(temperature=0), chain_type=\"refine\", return_intermediate_steps=True)\n",
    "chain_refine_intermediate({\"input_documents\": docs, \"question\": query}, return_only_outputs=True)"
   ]
  },
  {
   "cell_type": "code",
   "execution_count": 24,
   "metadata": {},
   "outputs": [],
   "source": [
    "refine_template = (\n",
    "    \"The original question is as follows: {question}\\n\"\n",
    "    \"We have provided an existing answer, including sources: {existing_answer}\\n\"\n",
    "    \"We have the opportunity to refine the existing answer\"\n",
    "    \"(only if needed) with some more context below.\\n\"\n",
    "    \"------------\\n\"\n",
    "    \"{context_str}\\n\"\n",
    "    \"------------\\n\"\n",
    "    \"Given the new context, refine the original answer to better \"\n",
    "    \"answer the question (in Italian)\"\n",
    "    \"If you do update it, please update the sources as well. \"\n",
    "    \"If the context isn't useful, return the original answer.\"\n",
    ")\n",
    "refine_prompt = PromptTemplate(\n",
    "    input_variables=[\"question\", \"existing_answer\", \"context_str\"],\n",
    "    template=refine_template,\n",
    ")\n",
    "\n",
    "\n",
    "question_template = (\n",
    "    \"Context information is below. \\n\"\n",
    "    \"---------------------\\n\"\n",
    "    \"{context_str}\"\n",
    "    \"\\n---------------------\\n\"\n",
    "    \"Given the context information and not prior knowledge, \"\n",
    "    \"answer the question in Italian: {question}\\n\"\n",
    ")\n",
    "question_prompt = PromptTemplate(\n",
    "    input_variables=[\"context_str\", \"question\"], template=question_template\n",
    ")"
   ]
  },
  {
   "cell_type": "code",
   "execution_count": 25,
   "metadata": {},
   "outputs": [
    {
     "data": {
      "text/plain": [
       "{'intermediate_steps': ['\\nIl presidente ha detto che Justice Breyer ha dedicato la sua vita a servire questo paese e ha reso omaggio a lui per il suo servizio.',\n",
       "  '\\n\\nIl presidente ha detto che Justice Breyer ha dedicato la sua vita a servire questo paese e ha reso omaggio a lui per il suo servizio. Ha anche sottolineato che la giustizia è una parte fondamentale della nostra democrazia e che Justice Breyer ha servito con integrità e dedizione.',\n",
       "  '\\n\\nIl presidente ha detto che Justice Breyer ha dedicato la sua vita a servire questo paese e ha reso omaggio a lui per il suo servizio. Ha anche sottolineato che la giustizia è una parte fondamentale della nostra democrazia e che Justice Breyer ha servito con integrità e dedizione, contribuendo a rafforzare la legge sulla violenza contro le donne che il presidente aveva scritto tre decenni fa.',\n",
       "  \"\\n\\nIl presidente ha detto che Justice Breyer ha dedicato la sua vita a servire questo paese e ha reso omaggio a lui per il suo servizio. Ha anche sottolineato che la giustizia è una parte fondamentale della nostra democrazia e che Justice Breyer ha servito con integrità e dedizione, contribuendo a rafforzare la legge sulla violenza contro le donne che il presidente aveva scritto tre decenni fa. Inoltre, ha sottolineato l'importanza di investire in America, educare gli americani, far crescere la forza lavoro e costruire l'economia dal basso verso l'alto e dal centro verso l'esterno, non dall'alto verso il basso. Ha anche sottolineato che l'America aveva una volta le migliori strade, ponti e aeroporti al mondo, ma ora la sua infrastrutt\"],\n",
       " 'output_text': \"\\n\\nIl presidente ha detto che Justice Breyer ha dedicato la sua vita a servire questo paese e ha reso omaggio a lui per il suo servizio. Ha anche sottolineato che la giustizia è una parte fondamentale della nostra democrazia e che Justice Breyer ha servito con integrità e dedizione, contribuendo a rafforzare la legge sulla violenza contro le donne che il presidente aveva scritto tre decenni fa. Inoltre, ha sottolineato l'importanza di investire in America, educare gli americani, far crescere la forza lavoro e costruire l'economia dal basso verso l'alto e dal centro verso l'esterno, non dall'alto verso il basso. Ha anche sottolineato che l'America aveva una volta le migliori strade, ponti e aeroporti al mondo, ma ora la sua infrastrutt\"}"
      ]
     },
     "execution_count": 25,
     "metadata": {},
     "output_type": "execute_result"
    }
   ],
   "source": [
    "chain_refine_prompt = load_qa_with_sources_chain(OpenAI(temperature=0), chain_type=\"refine\", return_intermediate_steps=True, question_prompt=question_prompt, refine_prompt=refine_prompt)\n",
    "chain_refine_prompt({\"input_documents\": docs, \"question\": query}, return_only_outputs=True)"
   ]
  },
  {
   "attachments": {},
   "cell_type": "markdown",
   "metadata": {},
   "source": [
    "# Map-Rerank"
   ]
  },
  {
   "cell_type": "code",
   "execution_count": null,
   "metadata": {},
   "outputs": [],
   "source": [
    "chain_map_rerank = load_qa_with_sources_chain(OpenAI(temperature=0), chain_type=\"map_rerank\", metadata_keys=['source'], return_intermediate_steps=True)\n",
    "result = chain_map_rerank({\"input_documents\": docs, \"question\": query}, return_only_outputs=True)"
   ]
  },
  {
   "cell_type": "code",
   "execution_count": null,
   "metadata": {},
   "outputs": [],
   "source": []
  }
 ],
 "metadata": {
  "kernelspec": {
   "display_name": "langchain",
   "language": "python",
   "name": "python3"
  },
  "language_info": {
   "codemirror_mode": {
    "name": "ipython",
    "version": 3
   },
   "file_extension": ".py",
   "mimetype": "text/x-python",
   "name": "python",
   "nbconvert_exporter": "python",
   "pygments_lexer": "ipython3",
   "version": "3.9.16"
  },
  "orig_nbformat": 4
 },
 "nbformat": 4,
 "nbformat_minor": 2
}
